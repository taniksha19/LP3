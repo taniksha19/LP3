{
 "cells": [
  {
   "cell_type": "code",
   "execution_count": 1,
   "metadata": {
    "id": "atw2Xac9I0xl"
   },
   "outputs": [],
   "source": [
    "import numpy as np\n",
    "import matplotlib.pyplot as plt\n",
    "import pandas as pd\n",
    "import seaborn as sns\n",
    "sns.set()"
   ]
  },
  {
   "cell_type": "code",
   "execution_count": 2,
   "metadata": {
    "colab": {
     "base_uri": "https://localhost:8080/",
     "height": 302
    },
    "id": "NPfi2q75I0xl",
    "outputId": "1f049900-3b13-433a-fa05-c439e3d9c2de"
   },
   "outputs": [
    {
     "data": {
      "text/html": [
       "<div>\n",
       "<style scoped>\n",
       "    .dataframe tbody tr th:only-of-type {\n",
       "        vertical-align: middle;\n",
       "    }\n",
       "\n",
       "    .dataframe tbody tr th {\n",
       "        vertical-align: top;\n",
       "    }\n",
       "\n",
       "    .dataframe thead th {\n",
       "        text-align: right;\n",
       "    }\n",
       "</style>\n",
       "<table border=\"1\" class=\"dataframe\">\n",
       "  <thead>\n",
       "    <tr style=\"text-align: right;\">\n",
       "      <th></th>\n",
       "      <th>CustomerId</th>\n",
       "      <th>Surname</th>\n",
       "      <th>CreditScore</th>\n",
       "      <th>Geography</th>\n",
       "      <th>Gender</th>\n",
       "      <th>Age</th>\n",
       "      <th>Tenure</th>\n",
       "      <th>Balance</th>\n",
       "      <th>NumOfProducts</th>\n",
       "      <th>HasCrCard</th>\n",
       "      <th>IsActiveMember</th>\n",
       "      <th>EstimatedSalary</th>\n",
       "      <th>Exited</th>\n",
       "    </tr>\n",
       "    <tr>\n",
       "      <th>RowNumber</th>\n",
       "      <th></th>\n",
       "      <th></th>\n",
       "      <th></th>\n",
       "      <th></th>\n",
       "      <th></th>\n",
       "      <th></th>\n",
       "      <th></th>\n",
       "      <th></th>\n",
       "      <th></th>\n",
       "      <th></th>\n",
       "      <th></th>\n",
       "      <th></th>\n",
       "      <th></th>\n",
       "    </tr>\n",
       "  </thead>\n",
       "  <tbody>\n",
       "    <tr>\n",
       "      <th>1</th>\n",
       "      <td>15634602</td>\n",
       "      <td>Hargrave</td>\n",
       "      <td>619</td>\n",
       "      <td>France</td>\n",
       "      <td>Female</td>\n",
       "      <td>42</td>\n",
       "      <td>2</td>\n",
       "      <td>0.00</td>\n",
       "      <td>1</td>\n",
       "      <td>1</td>\n",
       "      <td>1</td>\n",
       "      <td>101348.88</td>\n",
       "      <td>1</td>\n",
       "    </tr>\n",
       "    <tr>\n",
       "      <th>2</th>\n",
       "      <td>15647311</td>\n",
       "      <td>Hill</td>\n",
       "      <td>608</td>\n",
       "      <td>Spain</td>\n",
       "      <td>Female</td>\n",
       "      <td>41</td>\n",
       "      <td>1</td>\n",
       "      <td>83807.86</td>\n",
       "      <td>1</td>\n",
       "      <td>0</td>\n",
       "      <td>1</td>\n",
       "      <td>112542.58</td>\n",
       "      <td>0</td>\n",
       "    </tr>\n",
       "    <tr>\n",
       "      <th>3</th>\n",
       "      <td>15619304</td>\n",
       "      <td>Onio</td>\n",
       "      <td>502</td>\n",
       "      <td>France</td>\n",
       "      <td>Female</td>\n",
       "      <td>42</td>\n",
       "      <td>8</td>\n",
       "      <td>159660.80</td>\n",
       "      <td>3</td>\n",
       "      <td>1</td>\n",
       "      <td>0</td>\n",
       "      <td>113931.57</td>\n",
       "      <td>1</td>\n",
       "    </tr>\n",
       "    <tr>\n",
       "      <th>4</th>\n",
       "      <td>15701354</td>\n",
       "      <td>Boni</td>\n",
       "      <td>699</td>\n",
       "      <td>France</td>\n",
       "      <td>Female</td>\n",
       "      <td>39</td>\n",
       "      <td>1</td>\n",
       "      <td>0.00</td>\n",
       "      <td>2</td>\n",
       "      <td>0</td>\n",
       "      <td>0</td>\n",
       "      <td>93826.63</td>\n",
       "      <td>0</td>\n",
       "    </tr>\n",
       "    <tr>\n",
       "      <th>5</th>\n",
       "      <td>15737888</td>\n",
       "      <td>Mitchell</td>\n",
       "      <td>850</td>\n",
       "      <td>Spain</td>\n",
       "      <td>Female</td>\n",
       "      <td>43</td>\n",
       "      <td>2</td>\n",
       "      <td>125510.82</td>\n",
       "      <td>1</td>\n",
       "      <td>1</td>\n",
       "      <td>1</td>\n",
       "      <td>79084.10</td>\n",
       "      <td>0</td>\n",
       "    </tr>\n",
       "  </tbody>\n",
       "</table>\n",
       "</div>"
      ],
      "text/plain": [
       "           CustomerId   Surname  CreditScore Geography  Gender  Age  Tenure  \\\n",
       "RowNumber                                                                     \n",
       "1            15634602  Hargrave          619    France  Female   42       2   \n",
       "2            15647311      Hill          608     Spain  Female   41       1   \n",
       "3            15619304      Onio          502    France  Female   42       8   \n",
       "4            15701354      Boni          699    France  Female   39       1   \n",
       "5            15737888  Mitchell          850     Spain  Female   43       2   \n",
       "\n",
       "             Balance  NumOfProducts  HasCrCard  IsActiveMember  \\\n",
       "RowNumber                                                        \n",
       "1               0.00              1          1               1   \n",
       "2           83807.86              1          0               1   \n",
       "3          159660.80              3          1               0   \n",
       "4               0.00              2          0               0   \n",
       "5          125510.82              1          1               1   \n",
       "\n",
       "           EstimatedSalary  Exited  \n",
       "RowNumber                           \n",
       "1                101348.88       1  \n",
       "2                112542.58       0  \n",
       "3                113931.57       1  \n",
       "4                 93826.63       0  \n",
       "5                 79084.10       0  "
      ]
     },
     "execution_count": 2,
     "metadata": {},
     "output_type": "execute_result"
    }
   ],
   "source": [
    "dataset = pd.read_csv('Churn_Modelling.csv', index_col = 'RowNumber')\n",
    "dataset.head()\n"
   ]
  },
  {
   "cell_type": "code",
   "execution_count": 3,
   "metadata": {
    "colab": {
     "base_uri": "https://localhost:8080/"
    },
    "id": "jelFHwknI0xm",
    "outputId": "e8e8af69-44e3-4b72-84cf-e15d6b026a5f"
   },
   "outputs": [
    {
     "name": "stdout",
     "output_type": "stream",
     "text": [
      "['CreditScore', 'Geography', 'Gender', 'Age', 'Tenure', 'Balance', 'NumOfProducts', 'HasCrCard', 'IsActiveMember', 'EstimatedSalary']\n",
      "['Exited']\n"
     ]
    }
   ],
   "source": [
    "#Customer ID and Surname would not be relevant as features\n",
    "X_columns = dataset.columns.tolist()[2:12]\n",
    "Y_columns = dataset.columns.tolist()[-1:]\n",
    "print(X_columns)\n",
    "print(Y_columns)"
   ]
  },
  {
   "cell_type": "code",
   "execution_count": 4,
   "metadata": {
    "id": "_EnXaCYmI0xn"
   },
   "outputs": [],
   "source": [
    "X = dataset[X_columns].values \n",
    "Y = dataset[Y_columns].values"
   ]
  },
  {
   "cell_type": "code",
   "execution_count": 5,
   "metadata": {},
   "outputs": [
    {
     "data": {
      "text/plain": [
       "array([[619, 'France', 'Female', ..., 1, 1, 101348.88],\n",
       "       [608, 'Spain', 'Female', ..., 0, 1, 112542.58],\n",
       "       [502, 'France', 'Female', ..., 1, 0, 113931.57],\n",
       "       ...,\n",
       "       [709, 'France', 'Female', ..., 0, 1, 42085.58],\n",
       "       [772, 'Germany', 'Male', ..., 1, 0, 92888.52],\n",
       "       [792, 'France', 'Female', ..., 1, 0, 38190.78]], dtype=object)"
      ]
     },
     "execution_count": 5,
     "metadata": {},
     "output_type": "execute_result"
    }
   ],
   "source": [
    "X"
   ]
  },
  {
   "cell_type": "code",
   "execution_count": 5,
   "metadata": {
    "id": "cjbVx3FRI0xn"
   },
   "outputs": [],
   "source": [
    "#We need to encode categorical variables such as geography and gender\n",
    "from sklearn.preprocessing import LabelEncoder\n",
    "X_column_transformer = LabelEncoder()\n",
    "X[:, 1] = X_column_transformer.fit_transform(X[:, 1])"
   ]
  },
  {
   "cell_type": "code",
   "execution_count": 6,
   "metadata": {
    "id": "tS02t4y9I0xn"
   },
   "outputs": [],
   "source": [
    "#Lets Encode gender now\n",
    "X[:, 2] = X_column_transformer.fit_transform(X[:, 2])"
   ]
  },
  {
   "cell_type": "markdown",
   "metadata": {
    "id": "DKwFc-HWI0xo"
   },
   "source": [
    "We are treating countries with ordinal values(0 < 1 < 2) but they are incomparable.\n",
    "To solve this we can use one hot encoding.\n",
    "We will perform some standardization "
   ]
  },
  {
   "cell_type": "code",
   "execution_count": 7,
   "metadata": {
    "id": "v-bI9UNiI0xo"
   },
   "outputs": [],
   "source": [
    "from sklearn.preprocessing import StandardScaler, OneHotEncoder\n",
    "from sklearn.compose import ColumnTransformer\n",
    "from sklearn.pipeline import Pipeline\n",
    "\n",
    "pipeline = Pipeline(\n",
    "    [\n",
    "        ('Categorizer', ColumnTransformer(\n",
    "            [\n",
    "                (\"Gender Label Encoder\", OneHotEncoder(categories = 'auto', drop = 'first'), [2]),\n",
    "                (\"Geography Label Encoder\", OneHotEncoder(categories = 'auto', drop = 'first'), [1])\n",
    "            ], \n",
    "            remainder = 'passthrough', n_jobs = 1)),\n",
    "        ('Normalizer', StandardScaler())\n",
    "    ]\n",
    ")"
   ]
  },
  {
   "cell_type": "code",
   "execution_count": 8,
   "metadata": {
    "id": "7_TO_-fQI0xp"
   },
   "outputs": [],
   "source": [
    "#Standardize the features\n",
    "X = pipeline.fit_transform(X)"
   ]
  },
  {
   "cell_type": "code",
   "execution_count": 9,
   "metadata": {
    "id": "OJ7VUetiI0xq"
   },
   "outputs": [],
   "source": [
    "#Spilt the data\n",
    "from sklearn.model_selection import train_test_split\n",
    "X_train, X_test, y_train, y_test = train_test_split(X, Y, test_size = 0.2, random_state = 0)"
   ]
  },
  {
   "cell_type": "code",
   "execution_count": 10,
   "metadata": {
    "id": "mX35INUFI0xr"
   },
   "outputs": [],
   "source": [
    "#Let us create the Neural Network\n",
    "from keras.models import Sequential\n",
    "from keras.layers import Dense, Dropout"
   ]
  },
  {
   "cell_type": "code",
   "execution_count": 11,
   "metadata": {
    "id": "VYIsyqOUI0xs"
   },
   "outputs": [],
   "source": [
    "#Initialize ANN\n",
    "classifier = Sequential()"
   ]
  },
  {
   "cell_type": "code",
   "execution_count": 12,
   "metadata": {
    "id": "i3nH8oOhJcp8"
   },
   "outputs": [],
   "source": [
    "#Add input layer and hidden layer\n",
    "classifier.add(Dense(6, activation = 'relu', input_shape = (X_train.shape[1], )))\n",
    "classifier.add(Dropout(rate = 0.1))"
   ]
  },
  {
   "cell_type": "code",
   "execution_count": 13,
   "metadata": {
    "id": "gULE3c-YPvsI"
   },
   "outputs": [],
   "source": [
    "#Add second layer\n",
    "classifier.add(Dense(6, activation = 'relu'))\n",
    "classifier.add(Dropout(rate = 0.1))"
   ]
  },
  {
   "cell_type": "code",
   "execution_count": 14,
   "metadata": {
    "id": "j_XpNLaSP9Qk"
   },
   "outputs": [],
   "source": [
    "#Add output layer\n",
    "classifier.add(Dense(1, activation = 'sigmoid'))"
   ]
  },
  {
   "cell_type": "code",
   "execution_count": 15,
   "metadata": {
    "colab": {
     "base_uri": "https://localhost:8080/"
    },
    "id": "5rodKUhIQUWH",
    "outputId": "a8dd63ea-6662-41f3-a43b-4f3f4567a06d"
   },
   "outputs": [
    {
     "name": "stdout",
     "output_type": "stream",
     "text": [
      "Model: \"sequential\"\n",
      "_________________________________________________________________\n",
      " Layer (type)                Output Shape              Param #   \n",
      "=================================================================\n",
      " dense (Dense)               (None, 6)                 72        \n",
      "                                                                 \n",
      " dropout (Dropout)           (None, 6)                 0         \n",
      "                                                                 \n",
      " dense_1 (Dense)             (None, 6)                 42        \n",
      "                                                                 \n",
      " dropout_1 (Dropout)         (None, 6)                 0         \n",
      "                                                                 \n",
      " dense_2 (Dense)             (None, 1)                 7         \n",
      "                                                                 \n",
      "=================================================================\n",
      "Total params: 121\n",
      "Trainable params: 121\n",
      "Non-trainable params: 0\n",
      "_________________________________________________________________\n"
     ]
    }
   ],
   "source": [
    "#Let us take a look at our network\n",
    "classifier.summary()"
   ]
  },
  {
   "cell_type": "code",
   "execution_count": 16,
   "metadata": {
    "id": "XfHGyyviSXed"
   },
   "outputs": [],
   "source": [
    "#Optimize the weights\n",
    "classifier.compile(optimizer = 'adam', loss = 'binary_crossentropy', metrics = ['accuracy'])"
   ]
  },
  {
   "cell_type": "code",
   "execution_count": 17,
   "metadata": {
    "colab": {
     "base_uri": "https://localhost:8080/"
    },
    "id": "7px7qzJQVhan",
    "outputId": "09d47fa7-684c-424c-f144-e86492bcfa24"
   },
   "outputs": [
    {
     "name": "stdout",
     "output_type": "stream",
     "text": [
      "Epoch 1/200\n",
      "225/225 - 3s - loss: 0.6205 - accuracy: 0.6782 - val_loss: 0.4912 - val_accuracy: 0.7950 - 3s/epoch - 11ms/step\n",
      "Epoch 2/200\n",
      "225/225 - 1s - loss: 0.4929 - accuracy: 0.7944 - val_loss: 0.4494 - val_accuracy: 0.7950 - 622ms/epoch - 3ms/step\n",
      "Epoch 3/200\n",
      "225/225 - 1s - loss: 0.4703 - accuracy: 0.7967 - val_loss: 0.4297 - val_accuracy: 0.8062 - 628ms/epoch - 3ms/step\n",
      "Epoch 4/200\n",
      "225/225 - 1s - loss: 0.4577 - accuracy: 0.8032 - val_loss: 0.4183 - val_accuracy: 0.8150 - 619ms/epoch - 3ms/step\n",
      "Epoch 5/200\n",
      "225/225 - 1s - loss: 0.4488 - accuracy: 0.8071 - val_loss: 0.4108 - val_accuracy: 0.8225 - 652ms/epoch - 3ms/step\n",
      "Epoch 6/200\n",
      "225/225 - 1s - loss: 0.4458 - accuracy: 0.8065 - val_loss: 0.4056 - val_accuracy: 0.8250 - 630ms/epoch - 3ms/step\n",
      "Epoch 7/200\n",
      "225/225 - 1s - loss: 0.4408 - accuracy: 0.8114 - val_loss: 0.4008 - val_accuracy: 0.8288 - 602ms/epoch - 3ms/step\n",
      "Epoch 8/200\n",
      "225/225 - 1s - loss: 0.4338 - accuracy: 0.8103 - val_loss: 0.3979 - val_accuracy: 0.8300 - 596ms/epoch - 3ms/step\n",
      "Epoch 9/200\n",
      "225/225 - 1s - loss: 0.4324 - accuracy: 0.8128 - val_loss: 0.3962 - val_accuracy: 0.8300 - 580ms/epoch - 3ms/step\n",
      "Epoch 10/200\n",
      "225/225 - 1s - loss: 0.4300 - accuracy: 0.8157 - val_loss: 0.3953 - val_accuracy: 0.8300 - 594ms/epoch - 3ms/step\n",
      "Epoch 11/200\n",
      "225/225 - 1s - loss: 0.4260 - accuracy: 0.8160 - val_loss: 0.3935 - val_accuracy: 0.8375 - 574ms/epoch - 3ms/step\n",
      "Epoch 12/200\n",
      "225/225 - 1s - loss: 0.4251 - accuracy: 0.8112 - val_loss: 0.3921 - val_accuracy: 0.8363 - 604ms/epoch - 3ms/step\n",
      "Epoch 13/200\n",
      "225/225 - 1s - loss: 0.4230 - accuracy: 0.8171 - val_loss: 0.3912 - val_accuracy: 0.8350 - 613ms/epoch - 3ms/step\n",
      "Epoch 14/200\n",
      "225/225 - 1s - loss: 0.4223 - accuracy: 0.8172 - val_loss: 0.3890 - val_accuracy: 0.8400 - 590ms/epoch - 3ms/step\n",
      "Epoch 15/200\n",
      "225/225 - 1s - loss: 0.4230 - accuracy: 0.8171 - val_loss: 0.3889 - val_accuracy: 0.8388 - 604ms/epoch - 3ms/step\n",
      "Epoch 16/200\n",
      "225/225 - 1s - loss: 0.4215 - accuracy: 0.8181 - val_loss: 0.3872 - val_accuracy: 0.8450 - 624ms/epoch - 3ms/step\n",
      "Epoch 17/200\n",
      "225/225 - 1s - loss: 0.4189 - accuracy: 0.8171 - val_loss: 0.3870 - val_accuracy: 0.8400 - 589ms/epoch - 3ms/step\n",
      "Epoch 18/200\n",
      "225/225 - 1s - loss: 0.4181 - accuracy: 0.8151 - val_loss: 0.3868 - val_accuracy: 0.8413 - 619ms/epoch - 3ms/step\n",
      "Epoch 19/200\n",
      "225/225 - 1s - loss: 0.4205 - accuracy: 0.8158 - val_loss: 0.3871 - val_accuracy: 0.8400 - 635ms/epoch - 3ms/step\n",
      "Epoch 20/200\n",
      "225/225 - 0s - loss: 0.4164 - accuracy: 0.8175 - val_loss: 0.3854 - val_accuracy: 0.8425 - 487ms/epoch - 2ms/step\n",
      "Epoch 21/200\n",
      "225/225 - 1s - loss: 0.4179 - accuracy: 0.8179 - val_loss: 0.3845 - val_accuracy: 0.8450 - 537ms/epoch - 2ms/step\n",
      "Epoch 22/200\n",
      "225/225 - 1s - loss: 0.4159 - accuracy: 0.8179 - val_loss: 0.3836 - val_accuracy: 0.8413 - 526ms/epoch - 2ms/step\n",
      "Epoch 23/200\n",
      "225/225 - 1s - loss: 0.4178 - accuracy: 0.8172 - val_loss: 0.3827 - val_accuracy: 0.8438 - 529ms/epoch - 2ms/step\n",
      "Epoch 24/200\n",
      "225/225 - 1s - loss: 0.4167 - accuracy: 0.8164 - val_loss: 0.3815 - val_accuracy: 0.8438 - 519ms/epoch - 2ms/step\n",
      "Epoch 25/200\n",
      "225/225 - 1s - loss: 0.4146 - accuracy: 0.8194 - val_loss: 0.3810 - val_accuracy: 0.8413 - 511ms/epoch - 2ms/step\n",
      "Epoch 26/200\n",
      "225/225 - 1s - loss: 0.4126 - accuracy: 0.8201 - val_loss: 0.3786 - val_accuracy: 0.8425 - 529ms/epoch - 2ms/step\n",
      "Epoch 27/200\n",
      "225/225 - 1s - loss: 0.4110 - accuracy: 0.8203 - val_loss: 0.3780 - val_accuracy: 0.8462 - 511ms/epoch - 2ms/step\n",
      "Epoch 28/200\n",
      "225/225 - 1s - loss: 0.4165 - accuracy: 0.8160 - val_loss: 0.3789 - val_accuracy: 0.8450 - 538ms/epoch - 2ms/step\n",
      "Epoch 29/200\n",
      "225/225 - 1s - loss: 0.4105 - accuracy: 0.8189 - val_loss: 0.3788 - val_accuracy: 0.8425 - 632ms/epoch - 3ms/step\n",
      "Epoch 30/200\n",
      "225/225 - 1s - loss: 0.4140 - accuracy: 0.8156 - val_loss: 0.3767 - val_accuracy: 0.8462 - 625ms/epoch - 3ms/step\n",
      "Epoch 31/200\n",
      "225/225 - 1s - loss: 0.4066 - accuracy: 0.8171 - val_loss: 0.3772 - val_accuracy: 0.8462 - 628ms/epoch - 3ms/step\n",
      "Epoch 32/200\n",
      "225/225 - 1s - loss: 0.4144 - accuracy: 0.8144 - val_loss: 0.3774 - val_accuracy: 0.8438 - 617ms/epoch - 3ms/step\n",
      "Epoch 33/200\n",
      "225/225 - 1s - loss: 0.4127 - accuracy: 0.8163 - val_loss: 0.3776 - val_accuracy: 0.8375 - 646ms/epoch - 3ms/step\n",
      "Epoch 34/200\n",
      "225/225 - 1s - loss: 0.4090 - accuracy: 0.8163 - val_loss: 0.3759 - val_accuracy: 0.8363 - 652ms/epoch - 3ms/step\n",
      "Epoch 35/200\n",
      "225/225 - 1s - loss: 0.4058 - accuracy: 0.8190 - val_loss: 0.3745 - val_accuracy: 0.8400 - 643ms/epoch - 3ms/step\n",
      "Epoch 36/200\n",
      "225/225 - 1s - loss: 0.4081 - accuracy: 0.8194 - val_loss: 0.3731 - val_accuracy: 0.8425 - 629ms/epoch - 3ms/step\n",
      "Epoch 37/200\n",
      "225/225 - 1s - loss: 0.4104 - accuracy: 0.8161 - val_loss: 0.3733 - val_accuracy: 0.8400 - 608ms/epoch - 3ms/step\n",
      "Epoch 38/200\n",
      "225/225 - 1s - loss: 0.4095 - accuracy: 0.8163 - val_loss: 0.3725 - val_accuracy: 0.8413 - 600ms/epoch - 3ms/step\n",
      "Epoch 39/200\n",
      "225/225 - 1s - loss: 0.4092 - accuracy: 0.8157 - val_loss: 0.3709 - val_accuracy: 0.8438 - 626ms/epoch - 3ms/step\n",
      "Epoch 40/200\n",
      "225/225 - 1s - loss: 0.4086 - accuracy: 0.8154 - val_loss: 0.3712 - val_accuracy: 0.8413 - 607ms/epoch - 3ms/step\n",
      "Epoch 41/200\n",
      "225/225 - 1s - loss: 0.4097 - accuracy: 0.8176 - val_loss: 0.3704 - val_accuracy: 0.8388 - 597ms/epoch - 3ms/step\n",
      "Epoch 42/200\n",
      "225/225 - 1s - loss: 0.4074 - accuracy: 0.8174 - val_loss: 0.3692 - val_accuracy: 0.8413 - 581ms/epoch - 3ms/step\n",
      "Epoch 43/200\n",
      "225/225 - 1s - loss: 0.4046 - accuracy: 0.8179 - val_loss: 0.3702 - val_accuracy: 0.8400 - 598ms/epoch - 3ms/step\n",
      "Epoch 44/200\n",
      "225/225 - 1s - loss: 0.4099 - accuracy: 0.8147 - val_loss: 0.3689 - val_accuracy: 0.8375 - 609ms/epoch - 3ms/step\n",
      "Epoch 45/200\n",
      "225/225 - 1s - loss: 0.4039 - accuracy: 0.8189 - val_loss: 0.3668 - val_accuracy: 0.8425 - 582ms/epoch - 3ms/step\n",
      "Epoch 46/200\n",
      "225/225 - 1s - loss: 0.4051 - accuracy: 0.8194 - val_loss: 0.3668 - val_accuracy: 0.8400 - 609ms/epoch - 3ms/step\n",
      "Epoch 47/200\n",
      "225/225 - 1s - loss: 0.4041 - accuracy: 0.8182 - val_loss: 0.3659 - val_accuracy: 0.8400 - 587ms/epoch - 3ms/step\n",
      "Epoch 48/200\n",
      "225/225 - 1s - loss: 0.4072 - accuracy: 0.8171 - val_loss: 0.3666 - val_accuracy: 0.8400 - 620ms/epoch - 3ms/step\n",
      "Epoch 49/200\n",
      "225/225 - 1s - loss: 0.4078 - accuracy: 0.8192 - val_loss: 0.3643 - val_accuracy: 0.8413 - 616ms/epoch - 3ms/step\n",
      "Epoch 50/200\n",
      "225/225 - 1s - loss: 0.4036 - accuracy: 0.8189 - val_loss: 0.3639 - val_accuracy: 0.8425 - 588ms/epoch - 3ms/step\n",
      "Epoch 51/200\n",
      "225/225 - 1s - loss: 0.4070 - accuracy: 0.8143 - val_loss: 0.3632 - val_accuracy: 0.8413 - 613ms/epoch - 3ms/step\n",
      "Epoch 52/200\n",
      "225/225 - 1s - loss: 0.4067 - accuracy: 0.8163 - val_loss: 0.3623 - val_accuracy: 0.8400 - 617ms/epoch - 3ms/step\n",
      "Epoch 53/200\n",
      "225/225 - 1s - loss: 0.4018 - accuracy: 0.8200 - val_loss: 0.3611 - val_accuracy: 0.8438 - 531ms/epoch - 2ms/step\n",
      "Epoch 54/200\n",
      "225/225 - 1s - loss: 0.3981 - accuracy: 0.8204 - val_loss: 0.3581 - val_accuracy: 0.8450 - 523ms/epoch - 2ms/step\n",
      "Epoch 55/200\n",
      "225/225 - 1s - loss: 0.4038 - accuracy: 0.8194 - val_loss: 0.3593 - val_accuracy: 0.8413 - 557ms/epoch - 2ms/step\n",
      "Epoch 56/200\n",
      "225/225 - 1s - loss: 0.4037 - accuracy: 0.8160 - val_loss: 0.3595 - val_accuracy: 0.8375 - 521ms/epoch - 2ms/step\n",
      "Epoch 57/200\n",
      "225/225 - 1s - loss: 0.4016 - accuracy: 0.8169 - val_loss: 0.3589 - val_accuracy: 0.8400 - 504ms/epoch - 2ms/step\n",
      "Epoch 58/200\n",
      "225/225 - 1s - loss: 0.3981 - accuracy: 0.8210 - val_loss: 0.3580 - val_accuracy: 0.8400 - 513ms/epoch - 2ms/step\n",
      "Epoch 59/200\n",
      "225/225 - 1s - loss: 0.3974 - accuracy: 0.8181 - val_loss: 0.3579 - val_accuracy: 0.8388 - 533ms/epoch - 2ms/step\n",
      "Epoch 60/200\n",
      "225/225 - 1s - loss: 0.3969 - accuracy: 0.8265 - val_loss: 0.3566 - val_accuracy: 0.8500 - 597ms/epoch - 3ms/step\n",
      "Epoch 61/200\n",
      "225/225 - 1s - loss: 0.3987 - accuracy: 0.8313 - val_loss: 0.3546 - val_accuracy: 0.8500 - 634ms/epoch - 3ms/step\n",
      "Epoch 62/200\n",
      "225/225 - 1s - loss: 0.3969 - accuracy: 0.8322 - val_loss: 0.3515 - val_accuracy: 0.8525 - 614ms/epoch - 3ms/step\n",
      "Epoch 63/200\n",
      "225/225 - 1s - loss: 0.3924 - accuracy: 0.8332 - val_loss: 0.3496 - val_accuracy: 0.8487 - 619ms/epoch - 3ms/step\n",
      "Epoch 64/200\n",
      "225/225 - 1s - loss: 0.3935 - accuracy: 0.8343 - val_loss: 0.3480 - val_accuracy: 0.8462 - 601ms/epoch - 3ms/step\n",
      "Epoch 65/200\n",
      "225/225 - 1s - loss: 0.3979 - accuracy: 0.8306 - val_loss: 0.3492 - val_accuracy: 0.8500 - 623ms/epoch - 3ms/step\n"
     ]
    },
    {
     "name": "stdout",
     "output_type": "stream",
     "text": [
      "Epoch 66/200\n",
      "225/225 - 1s - loss: 0.3910 - accuracy: 0.8376 - val_loss: 0.3481 - val_accuracy: 0.8512 - 665ms/epoch - 3ms/step\n",
      "Epoch 67/200\n",
      "225/225 - 1s - loss: 0.3935 - accuracy: 0.8372 - val_loss: 0.3455 - val_accuracy: 0.8512 - 617ms/epoch - 3ms/step\n",
      "Epoch 68/200\n",
      "225/225 - 1s - loss: 0.3914 - accuracy: 0.8336 - val_loss: 0.3449 - val_accuracy: 0.8500 - 619ms/epoch - 3ms/step\n",
      "Epoch 69/200\n",
      "225/225 - 1s - loss: 0.3935 - accuracy: 0.8317 - val_loss: 0.3460 - val_accuracy: 0.8537 - 610ms/epoch - 3ms/step\n",
      "Epoch 70/200\n",
      "225/225 - 1s - loss: 0.3923 - accuracy: 0.8333 - val_loss: 0.3449 - val_accuracy: 0.8537 - 621ms/epoch - 3ms/step\n",
      "Epoch 71/200\n",
      "225/225 - 1s - loss: 0.3880 - accuracy: 0.8374 - val_loss: 0.3444 - val_accuracy: 0.8562 - 621ms/epoch - 3ms/step\n",
      "Epoch 72/200\n",
      "225/225 - 1s - loss: 0.3934 - accuracy: 0.8353 - val_loss: 0.3460 - val_accuracy: 0.8525 - 602ms/epoch - 3ms/step\n",
      "Epoch 73/200\n",
      "225/225 - 1s - loss: 0.3890 - accuracy: 0.8388 - val_loss: 0.3437 - val_accuracy: 0.8575 - 580ms/epoch - 3ms/step\n",
      "Epoch 74/200\n",
      "225/225 - 1s - loss: 0.3890 - accuracy: 0.8393 - val_loss: 0.3433 - val_accuracy: 0.8600 - 610ms/epoch - 3ms/step\n",
      "Epoch 75/200\n",
      "225/225 - 1s - loss: 0.3914 - accuracy: 0.8365 - val_loss: 0.3428 - val_accuracy: 0.8600 - 616ms/epoch - 3ms/step\n",
      "Epoch 76/200\n",
      "225/225 - 1s - loss: 0.3913 - accuracy: 0.8361 - val_loss: 0.3432 - val_accuracy: 0.8600 - 597ms/epoch - 3ms/step\n",
      "Epoch 77/200\n",
      "225/225 - 1s - loss: 0.3920 - accuracy: 0.8363 - val_loss: 0.3437 - val_accuracy: 0.8587 - 631ms/epoch - 3ms/step\n",
      "Epoch 78/200\n",
      "225/225 - 1s - loss: 0.3890 - accuracy: 0.8335 - val_loss: 0.3437 - val_accuracy: 0.8550 - 597ms/epoch - 3ms/step\n",
      "Epoch 79/200\n",
      "225/225 - 1s - loss: 0.3884 - accuracy: 0.8397 - val_loss: 0.3461 - val_accuracy: 0.8575 - 598ms/epoch - 3ms/step\n",
      "Epoch 80/200\n",
      "225/225 - 1s - loss: 0.3897 - accuracy: 0.8394 - val_loss: 0.3450 - val_accuracy: 0.8600 - 607ms/epoch - 3ms/step\n",
      "Epoch 81/200\n",
      "225/225 - 1s - loss: 0.3855 - accuracy: 0.8408 - val_loss: 0.3426 - val_accuracy: 0.8575 - 595ms/epoch - 3ms/step\n",
      "Epoch 82/200\n",
      "225/225 - 1s - loss: 0.3901 - accuracy: 0.8374 - val_loss: 0.3428 - val_accuracy: 0.8600 - 600ms/epoch - 3ms/step\n",
      "Epoch 83/200\n",
      "225/225 - 1s - loss: 0.3859 - accuracy: 0.8375 - val_loss: 0.3415 - val_accuracy: 0.8625 - 647ms/epoch - 3ms/step\n",
      "Epoch 84/200\n",
      "225/225 - 1s - loss: 0.3903 - accuracy: 0.8374 - val_loss: 0.3426 - val_accuracy: 0.8637 - 624ms/epoch - 3ms/step\n",
      "Epoch 85/200\n",
      "225/225 - 1s - loss: 0.3888 - accuracy: 0.8374 - val_loss: 0.3426 - val_accuracy: 0.8612 - 597ms/epoch - 3ms/step\n",
      "Epoch 86/200\n",
      "225/225 - 1s - loss: 0.3887 - accuracy: 0.8351 - val_loss: 0.3411 - val_accuracy: 0.8650 - 592ms/epoch - 3ms/step\n",
      "Epoch 87/200\n",
      "225/225 - 1s - loss: 0.3868 - accuracy: 0.8403 - val_loss: 0.3405 - val_accuracy: 0.8650 - 629ms/epoch - 3ms/step\n",
      "Epoch 88/200\n",
      "225/225 - 1s - loss: 0.3867 - accuracy: 0.8351 - val_loss: 0.3407 - val_accuracy: 0.8625 - 618ms/epoch - 3ms/step\n",
      "Epoch 89/200\n",
      "225/225 - 1s - loss: 0.3909 - accuracy: 0.8340 - val_loss: 0.3400 - val_accuracy: 0.8625 - 653ms/epoch - 3ms/step\n",
      "Epoch 90/200\n",
      "225/225 - 1s - loss: 0.3883 - accuracy: 0.8381 - val_loss: 0.3395 - val_accuracy: 0.8625 - 643ms/epoch - 3ms/step\n",
      "Epoch 91/200\n",
      "225/225 - 1s - loss: 0.3880 - accuracy: 0.8378 - val_loss: 0.3388 - val_accuracy: 0.8625 - 584ms/epoch - 3ms/step\n",
      "Epoch 92/200\n",
      "225/225 - 1s - loss: 0.3899 - accuracy: 0.8342 - val_loss: 0.3398 - val_accuracy: 0.8612 - 604ms/epoch - 3ms/step\n",
      "Epoch 93/200\n",
      "225/225 - 1s - loss: 0.3867 - accuracy: 0.8385 - val_loss: 0.3423 - val_accuracy: 0.8600 - 598ms/epoch - 3ms/step\n",
      "Epoch 94/200\n",
      "225/225 - 1s - loss: 0.3902 - accuracy: 0.8374 - val_loss: 0.3422 - val_accuracy: 0.8650 - 630ms/epoch - 3ms/step\n",
      "Epoch 95/200\n",
      "225/225 - 1s - loss: 0.3882 - accuracy: 0.8364 - val_loss: 0.3398 - val_accuracy: 0.8637 - 612ms/epoch - 3ms/step\n",
      "Epoch 96/200\n",
      "225/225 - 1s - loss: 0.3865 - accuracy: 0.8406 - val_loss: 0.3394 - val_accuracy: 0.8637 - 600ms/epoch - 3ms/step\n",
      "Epoch 97/200\n",
      "225/225 - 1s - loss: 0.3827 - accuracy: 0.8379 - val_loss: 0.3389 - val_accuracy: 0.8625 - 600ms/epoch - 3ms/step\n",
      "Epoch 98/200\n",
      "225/225 - 1s - loss: 0.3881 - accuracy: 0.8367 - val_loss: 0.3384 - val_accuracy: 0.8637 - 511ms/epoch - 2ms/step\n",
      "Epoch 99/200\n",
      "225/225 - 1s - loss: 0.3880 - accuracy: 0.8397 - val_loss: 0.3394 - val_accuracy: 0.8625 - 554ms/epoch - 2ms/step\n",
      "Epoch 100/200\n",
      "225/225 - 1s - loss: 0.3862 - accuracy: 0.8413 - val_loss: 0.3388 - val_accuracy: 0.8637 - 530ms/epoch - 2ms/step\n",
      "Epoch 101/200\n",
      "225/225 - 1s - loss: 0.3859 - accuracy: 0.8381 - val_loss: 0.3391 - val_accuracy: 0.8625 - 530ms/epoch - 2ms/step\n",
      "Epoch 102/200\n",
      "225/225 - 1s - loss: 0.3852 - accuracy: 0.8403 - val_loss: 0.3372 - val_accuracy: 0.8612 - 574ms/epoch - 3ms/step\n",
      "Epoch 103/200\n",
      "225/225 - 0s - loss: 0.3862 - accuracy: 0.8400 - val_loss: 0.3375 - val_accuracy: 0.8575 - 499ms/epoch - 2ms/step\n",
      "Epoch 104/200\n",
      "225/225 - 1s - loss: 0.3855 - accuracy: 0.8397 - val_loss: 0.3378 - val_accuracy: 0.8612 - 513ms/epoch - 2ms/step\n",
      "Epoch 105/200\n",
      "225/225 - 1s - loss: 0.3911 - accuracy: 0.8381 - val_loss: 0.3390 - val_accuracy: 0.8625 - 518ms/epoch - 2ms/step\n",
      "Epoch 106/200\n",
      "225/225 - 1s - loss: 0.3867 - accuracy: 0.8404 - val_loss: 0.3365 - val_accuracy: 0.8637 - 546ms/epoch - 2ms/step\n",
      "Epoch 107/200\n",
      "225/225 - 0s - loss: 0.3866 - accuracy: 0.8396 - val_loss: 0.3368 - val_accuracy: 0.8625 - 450ms/epoch - 2ms/step\n",
      "Epoch 108/200\n",
      "225/225 - 0s - loss: 0.3882 - accuracy: 0.8357 - val_loss: 0.3366 - val_accuracy: 0.8612 - 241ms/epoch - 1ms/step\n",
      "Epoch 109/200\n",
      "225/225 - 0s - loss: 0.3840 - accuracy: 0.8397 - val_loss: 0.3362 - val_accuracy: 0.8612 - 237ms/epoch - 1ms/step\n",
      "Epoch 110/200\n",
      "225/225 - 0s - loss: 0.3862 - accuracy: 0.8386 - val_loss: 0.3373 - val_accuracy: 0.8625 - 241ms/epoch - 1ms/step\n",
      "Epoch 111/200\n",
      "225/225 - 0s - loss: 0.3922 - accuracy: 0.8353 - val_loss: 0.3380 - val_accuracy: 0.8625 - 237ms/epoch - 1ms/step\n",
      "Epoch 112/200\n",
      "225/225 - 0s - loss: 0.3838 - accuracy: 0.8389 - val_loss: 0.3377 - val_accuracy: 0.8612 - 259ms/epoch - 1ms/step\n",
      "Epoch 113/200\n",
      "225/225 - 0s - loss: 0.3841 - accuracy: 0.8390 - val_loss: 0.3366 - val_accuracy: 0.8612 - 278ms/epoch - 1ms/step\n",
      "Epoch 114/200\n",
      "225/225 - 0s - loss: 0.3841 - accuracy: 0.8418 - val_loss: 0.3371 - val_accuracy: 0.8625 - 258ms/epoch - 1ms/step\n",
      "Epoch 115/200\n",
      "225/225 - 0s - loss: 0.3840 - accuracy: 0.8399 - val_loss: 0.3355 - val_accuracy: 0.8625 - 254ms/epoch - 1ms/step\n",
      "Epoch 116/200\n",
      "225/225 - 0s - loss: 0.3863 - accuracy: 0.8379 - val_loss: 0.3362 - val_accuracy: 0.8650 - 266ms/epoch - 1ms/step\n",
      "Epoch 117/200\n",
      "225/225 - 0s - loss: 0.3853 - accuracy: 0.8396 - val_loss: 0.3371 - val_accuracy: 0.8637 - 318ms/epoch - 1ms/step\n",
      "Epoch 118/200\n",
      "225/225 - 1s - loss: 0.3874 - accuracy: 0.8400 - val_loss: 0.3394 - val_accuracy: 0.8625 - 561ms/epoch - 2ms/step\n",
      "Epoch 119/200\n",
      "225/225 - 1s - loss: 0.3849 - accuracy: 0.8390 - val_loss: 0.3377 - val_accuracy: 0.8637 - 686ms/epoch - 3ms/step\n",
      "Epoch 120/200\n",
      "225/225 - 1s - loss: 0.3879 - accuracy: 0.8375 - val_loss: 0.3372 - val_accuracy: 0.8625 - 632ms/epoch - 3ms/step\n",
      "Epoch 121/200\n",
      "225/225 - 1s - loss: 0.3814 - accuracy: 0.8390 - val_loss: 0.3359 - val_accuracy: 0.8587 - 642ms/epoch - 3ms/step\n",
      "Epoch 122/200\n",
      "225/225 - 1s - loss: 0.3878 - accuracy: 0.8363 - val_loss: 0.3368 - val_accuracy: 0.8612 - 626ms/epoch - 3ms/step\n",
      "Epoch 123/200\n",
      "225/225 - 1s - loss: 0.3840 - accuracy: 0.8411 - val_loss: 0.3381 - val_accuracy: 0.8612 - 563ms/epoch - 3ms/step\n",
      "Epoch 124/200\n",
      "225/225 - 1s - loss: 0.3852 - accuracy: 0.8382 - val_loss: 0.3355 - val_accuracy: 0.8662 - 544ms/epoch - 2ms/step\n",
      "Epoch 125/200\n",
      "225/225 - 1s - loss: 0.3864 - accuracy: 0.8382 - val_loss: 0.3365 - val_accuracy: 0.8612 - 587ms/epoch - 3ms/step\n",
      "Epoch 126/200\n",
      "225/225 - 1s - loss: 0.3868 - accuracy: 0.8383 - val_loss: 0.3364 - val_accuracy: 0.8662 - 592ms/epoch - 3ms/step\n",
      "Epoch 127/200\n",
      "225/225 - 1s - loss: 0.3865 - accuracy: 0.8381 - val_loss: 0.3371 - val_accuracy: 0.8612 - 609ms/epoch - 3ms/step\n",
      "Epoch 128/200\n",
      "225/225 - 1s - loss: 0.3846 - accuracy: 0.8389 - val_loss: 0.3357 - val_accuracy: 0.8625 - 585ms/epoch - 3ms/step\n",
      "Epoch 129/200\n",
      "225/225 - 1s - loss: 0.3858 - accuracy: 0.8410 - val_loss: 0.3369 - val_accuracy: 0.8625 - 576ms/epoch - 3ms/step\n",
      "Epoch 130/200\n",
      "225/225 - 1s - loss: 0.3817 - accuracy: 0.8406 - val_loss: 0.3378 - val_accuracy: 0.8625 - 569ms/epoch - 3ms/step\n"
     ]
    },
    {
     "name": "stdout",
     "output_type": "stream",
     "text": [
      "Epoch 131/200\n",
      "225/225 - 1s - loss: 0.3886 - accuracy: 0.8351 - val_loss: 0.3375 - val_accuracy: 0.8587 - 604ms/epoch - 3ms/step\n",
      "Epoch 132/200\n",
      "225/225 - 1s - loss: 0.3897 - accuracy: 0.8367 - val_loss: 0.3388 - val_accuracy: 0.8600 - 597ms/epoch - 3ms/step\n",
      "Epoch 133/200\n",
      "225/225 - 1s - loss: 0.3885 - accuracy: 0.8372 - val_loss: 0.3388 - val_accuracy: 0.8637 - 608ms/epoch - 3ms/step\n",
      "Epoch 134/200\n",
      "225/225 - 1s - loss: 0.3828 - accuracy: 0.8394 - val_loss: 0.3372 - val_accuracy: 0.8625 - 578ms/epoch - 3ms/step\n",
      "Epoch 135/200\n",
      "225/225 - 1s - loss: 0.3891 - accuracy: 0.8339 - val_loss: 0.3389 - val_accuracy: 0.8612 - 525ms/epoch - 2ms/step\n",
      "Epoch 136/200\n",
      "225/225 - 1s - loss: 0.3882 - accuracy: 0.8369 - val_loss: 0.3395 - val_accuracy: 0.8600 - 557ms/epoch - 2ms/step\n",
      "Epoch 137/200\n",
      "225/225 - 1s - loss: 0.3840 - accuracy: 0.8374 - val_loss: 0.3378 - val_accuracy: 0.8637 - 528ms/epoch - 2ms/step\n",
      "Epoch 138/200\n",
      "225/225 - 1s - loss: 0.3868 - accuracy: 0.8374 - val_loss: 0.3368 - val_accuracy: 0.8625 - 572ms/epoch - 3ms/step\n",
      "Epoch 139/200\n",
      "225/225 - 1s - loss: 0.3851 - accuracy: 0.8371 - val_loss: 0.3369 - val_accuracy: 0.8625 - 612ms/epoch - 3ms/step\n",
      "Epoch 140/200\n",
      "225/225 - 1s - loss: 0.3826 - accuracy: 0.8453 - val_loss: 0.3366 - val_accuracy: 0.8625 - 591ms/epoch - 3ms/step\n",
      "Epoch 141/200\n",
      "225/225 - 1s - loss: 0.3858 - accuracy: 0.8356 - val_loss: 0.3352 - val_accuracy: 0.8600 - 590ms/epoch - 3ms/step\n",
      "Epoch 142/200\n",
      "225/225 - 1s - loss: 0.3869 - accuracy: 0.8404 - val_loss: 0.3383 - val_accuracy: 0.8587 - 584ms/epoch - 3ms/step\n",
      "Epoch 143/200\n",
      "225/225 - 1s - loss: 0.3818 - accuracy: 0.8419 - val_loss: 0.3373 - val_accuracy: 0.8625 - 615ms/epoch - 3ms/step\n",
      "Epoch 144/200\n",
      "225/225 - 1s - loss: 0.3878 - accuracy: 0.8407 - val_loss: 0.3385 - val_accuracy: 0.8612 - 617ms/epoch - 3ms/step\n",
      "Epoch 145/200\n",
      "225/225 - 1s - loss: 0.3834 - accuracy: 0.8397 - val_loss: 0.3373 - val_accuracy: 0.8625 - 609ms/epoch - 3ms/step\n",
      "Epoch 146/200\n",
      "225/225 - 1s - loss: 0.3816 - accuracy: 0.8401 - val_loss: 0.3383 - val_accuracy: 0.8612 - 635ms/epoch - 3ms/step\n",
      "Epoch 147/200\n",
      "225/225 - 1s - loss: 0.3841 - accuracy: 0.8386 - val_loss: 0.3383 - val_accuracy: 0.8625 - 665ms/epoch - 3ms/step\n",
      "Epoch 148/200\n",
      "225/225 - 1s - loss: 0.3856 - accuracy: 0.8394 - val_loss: 0.3366 - val_accuracy: 0.8612 - 635ms/epoch - 3ms/step\n",
      "Epoch 149/200\n",
      "225/225 - 1s - loss: 0.3846 - accuracy: 0.8410 - val_loss: 0.3358 - val_accuracy: 0.8612 - 647ms/epoch - 3ms/step\n",
      "Epoch 150/200\n",
      "225/225 - 1s - loss: 0.3889 - accuracy: 0.8368 - val_loss: 0.3387 - val_accuracy: 0.8587 - 629ms/epoch - 3ms/step\n",
      "Epoch 151/200\n",
      "225/225 - 1s - loss: 0.3838 - accuracy: 0.8382 - val_loss: 0.3382 - val_accuracy: 0.8612 - 645ms/epoch - 3ms/step\n",
      "Epoch 152/200\n",
      "225/225 - 1s - loss: 0.3841 - accuracy: 0.8396 - val_loss: 0.3369 - val_accuracy: 0.8612 - 644ms/epoch - 3ms/step\n",
      "Epoch 153/200\n",
      "225/225 - 1s - loss: 0.3836 - accuracy: 0.8406 - val_loss: 0.3371 - val_accuracy: 0.8625 - 640ms/epoch - 3ms/step\n",
      "Epoch 154/200\n",
      "225/225 - 1s - loss: 0.3855 - accuracy: 0.8422 - val_loss: 0.3360 - val_accuracy: 0.8625 - 659ms/epoch - 3ms/step\n",
      "Epoch 155/200\n",
      "225/225 - 1s - loss: 0.3856 - accuracy: 0.8372 - val_loss: 0.3368 - val_accuracy: 0.8650 - 656ms/epoch - 3ms/step\n",
      "Epoch 156/200\n",
      "225/225 - 1s - loss: 0.3878 - accuracy: 0.8382 - val_loss: 0.3383 - val_accuracy: 0.8650 - 655ms/epoch - 3ms/step\n",
      "Epoch 157/200\n",
      "225/225 - 1s - loss: 0.3843 - accuracy: 0.8394 - val_loss: 0.3369 - val_accuracy: 0.8650 - 650ms/epoch - 3ms/step\n",
      "Epoch 158/200\n",
      "225/225 - 1s - loss: 0.3761 - accuracy: 0.8476 - val_loss: 0.3368 - val_accuracy: 0.8625 - 649ms/epoch - 3ms/step\n",
      "Epoch 159/200\n",
      "225/225 - 1s - loss: 0.3828 - accuracy: 0.8406 - val_loss: 0.3374 - val_accuracy: 0.8600 - 601ms/epoch - 3ms/step\n",
      "Epoch 160/200\n",
      "225/225 - 1s - loss: 0.3855 - accuracy: 0.8367 - val_loss: 0.3370 - val_accuracy: 0.8625 - 636ms/epoch - 3ms/step\n",
      "Epoch 161/200\n",
      "225/225 - 1s - loss: 0.3885 - accuracy: 0.8385 - val_loss: 0.3388 - val_accuracy: 0.8600 - 646ms/epoch - 3ms/step\n",
      "Epoch 162/200\n",
      "225/225 - 1s - loss: 0.3855 - accuracy: 0.8393 - val_loss: 0.3380 - val_accuracy: 0.8612 - 636ms/epoch - 3ms/step\n",
      "Epoch 163/200\n",
      "225/225 - 1s - loss: 0.3848 - accuracy: 0.8408 - val_loss: 0.3368 - val_accuracy: 0.8575 - 624ms/epoch - 3ms/step\n",
      "Epoch 164/200\n",
      "225/225 - 1s - loss: 0.3849 - accuracy: 0.8394 - val_loss: 0.3357 - val_accuracy: 0.8612 - 639ms/epoch - 3ms/step\n",
      "Epoch 165/200\n",
      "225/225 - 1s - loss: 0.3783 - accuracy: 0.8413 - val_loss: 0.3351 - val_accuracy: 0.8637 - 614ms/epoch - 3ms/step\n",
      "Epoch 166/200\n",
      "225/225 - 1s - loss: 0.3852 - accuracy: 0.8375 - val_loss: 0.3371 - val_accuracy: 0.8637 - 638ms/epoch - 3ms/step\n",
      "Epoch 167/200\n",
      "225/225 - 1s - loss: 0.3881 - accuracy: 0.8361 - val_loss: 0.3372 - val_accuracy: 0.8637 - 628ms/epoch - 3ms/step\n",
      "Epoch 168/200\n",
      "225/225 - 1s - loss: 0.3869 - accuracy: 0.8403 - val_loss: 0.3389 - val_accuracy: 0.8625 - 610ms/epoch - 3ms/step\n",
      "Epoch 169/200\n",
      "225/225 - 1s - loss: 0.3853 - accuracy: 0.8396 - val_loss: 0.3386 - val_accuracy: 0.8625 - 639ms/epoch - 3ms/step\n",
      "Epoch 170/200\n",
      "225/225 - 1s - loss: 0.3833 - accuracy: 0.8388 - val_loss: 0.3374 - val_accuracy: 0.8612 - 631ms/epoch - 3ms/step\n",
      "Epoch 171/200\n",
      "225/225 - 1s - loss: 0.3885 - accuracy: 0.8381 - val_loss: 0.3379 - val_accuracy: 0.8600 - 659ms/epoch - 3ms/step\n",
      "Epoch 172/200\n",
      "225/225 - 1s - loss: 0.3861 - accuracy: 0.8397 - val_loss: 0.3372 - val_accuracy: 0.8625 - 626ms/epoch - 3ms/step\n",
      "Epoch 173/200\n",
      "225/225 - 1s - loss: 0.3845 - accuracy: 0.8413 - val_loss: 0.3381 - val_accuracy: 0.8612 - 625ms/epoch - 3ms/step\n",
      "Epoch 174/200\n",
      "225/225 - 1s - loss: 0.3884 - accuracy: 0.8381 - val_loss: 0.3378 - val_accuracy: 0.8612 - 609ms/epoch - 3ms/step\n",
      "Epoch 175/200\n",
      "225/225 - 1s - loss: 0.3811 - accuracy: 0.8399 - val_loss: 0.3351 - val_accuracy: 0.8625 - 641ms/epoch - 3ms/step\n",
      "Epoch 176/200\n",
      "225/225 - 1s - loss: 0.3855 - accuracy: 0.8399 - val_loss: 0.3366 - val_accuracy: 0.8625 - 611ms/epoch - 3ms/step\n",
      "Epoch 177/200\n",
      "225/225 - 1s - loss: 0.3829 - accuracy: 0.8411 - val_loss: 0.3357 - val_accuracy: 0.8612 - 651ms/epoch - 3ms/step\n",
      "Epoch 178/200\n",
      "225/225 - 1s - loss: 0.3885 - accuracy: 0.8367 - val_loss: 0.3372 - val_accuracy: 0.8612 - 632ms/epoch - 3ms/step\n",
      "Epoch 179/200\n",
      "225/225 - 1s - loss: 0.3853 - accuracy: 0.8392 - val_loss: 0.3365 - val_accuracy: 0.8637 - 605ms/epoch - 3ms/step\n",
      "Epoch 180/200\n",
      "225/225 - 1s - loss: 0.3848 - accuracy: 0.8372 - val_loss: 0.3372 - val_accuracy: 0.8625 - 630ms/epoch - 3ms/step\n",
      "Epoch 181/200\n",
      "225/225 - 1s - loss: 0.3926 - accuracy: 0.8372 - val_loss: 0.3383 - val_accuracy: 0.8612 - 643ms/epoch - 3ms/step\n",
      "Epoch 182/200\n",
      "225/225 - 1s - loss: 0.3831 - accuracy: 0.8419 - val_loss: 0.3355 - val_accuracy: 0.8637 - 626ms/epoch - 3ms/step\n",
      "Epoch 183/200\n",
      "225/225 - 1s - loss: 0.3851 - accuracy: 0.8379 - val_loss: 0.3360 - val_accuracy: 0.8650 - 628ms/epoch - 3ms/step\n",
      "Epoch 184/200\n",
      "225/225 - 1s - loss: 0.3857 - accuracy: 0.8394 - val_loss: 0.3366 - val_accuracy: 0.8625 - 635ms/epoch - 3ms/step\n",
      "Epoch 185/200\n",
      "225/225 - 1s - loss: 0.3843 - accuracy: 0.8414 - val_loss: 0.3367 - val_accuracy: 0.8637 - 648ms/epoch - 3ms/step\n",
      "Epoch 186/200\n",
      "225/225 - 1s - loss: 0.3809 - accuracy: 0.8401 - val_loss: 0.3366 - val_accuracy: 0.8625 - 631ms/epoch - 3ms/step\n",
      "Epoch 187/200\n",
      "225/225 - 1s - loss: 0.3789 - accuracy: 0.8392 - val_loss: 0.3367 - val_accuracy: 0.8637 - 667ms/epoch - 3ms/step\n",
      "Epoch 188/200\n",
      "225/225 - 1s - loss: 0.3831 - accuracy: 0.8426 - val_loss: 0.3354 - val_accuracy: 0.8625 - 638ms/epoch - 3ms/step\n",
      "Epoch 189/200\n",
      "225/225 - 1s - loss: 0.3858 - accuracy: 0.8401 - val_loss: 0.3385 - val_accuracy: 0.8625 - 635ms/epoch - 3ms/step\n",
      "Epoch 190/200\n",
      "225/225 - 1s - loss: 0.3872 - accuracy: 0.8389 - val_loss: 0.3356 - val_accuracy: 0.8650 - 627ms/epoch - 3ms/step\n",
      "Epoch 191/200\n",
      "225/225 - 1s - loss: 0.3887 - accuracy: 0.8365 - val_loss: 0.3374 - val_accuracy: 0.8637 - 619ms/epoch - 3ms/step\n",
      "Epoch 192/200\n",
      "225/225 - 1s - loss: 0.3808 - accuracy: 0.8417 - val_loss: 0.3370 - val_accuracy: 0.8637 - 631ms/epoch - 3ms/step\n",
      "Epoch 193/200\n",
      "225/225 - 1s - loss: 0.3888 - accuracy: 0.8419 - val_loss: 0.3377 - val_accuracy: 0.8637 - 640ms/epoch - 3ms/step\n",
      "Epoch 194/200\n",
      "225/225 - 1s - loss: 0.3864 - accuracy: 0.8399 - val_loss: 0.3364 - val_accuracy: 0.8650 - 636ms/epoch - 3ms/step\n",
      "Epoch 195/200\n"
     ]
    },
    {
     "name": "stdout",
     "output_type": "stream",
     "text": [
      "225/225 - 1s - loss: 0.3810 - accuracy: 0.8388 - val_loss: 0.3361 - val_accuracy: 0.8600 - 636ms/epoch - 3ms/step\n",
      "Epoch 196/200\n",
      "225/225 - 1s - loss: 0.3840 - accuracy: 0.8394 - val_loss: 0.3362 - val_accuracy: 0.8600 - 632ms/epoch - 3ms/step\n",
      "Epoch 197/200\n",
      "225/225 - 1s - loss: 0.3872 - accuracy: 0.8396 - val_loss: 0.3361 - val_accuracy: 0.8637 - 623ms/epoch - 3ms/step\n",
      "Epoch 198/200\n",
      "225/225 - 1s - loss: 0.3831 - accuracy: 0.8428 - val_loss: 0.3357 - val_accuracy: 0.8625 - 639ms/epoch - 3ms/step\n",
      "Epoch 199/200\n",
      "225/225 - 1s - loss: 0.3847 - accuracy: 0.8389 - val_loss: 0.3359 - val_accuracy: 0.8637 - 622ms/epoch - 3ms/step\n",
      "Epoch 200/200\n",
      "225/225 - 1s - loss: 0.3848 - accuracy: 0.8424 - val_loss: 0.3377 - val_accuracy: 0.8625 - 626ms/epoch - 3ms/step\n"
     ]
    }
   ],
   "source": [
    "#Fitting the Neural Network\n",
    "history = classifier.fit(X_train, y_train, batch_size = 32, epochs = 200, validation_split = 0.1, verbose = 2)"
   ]
  },
  {
   "cell_type": "code",
   "execution_count": 18,
   "metadata": {
    "colab": {
     "base_uri": "https://localhost:8080/"
    },
    "id": "aq1-eNM2YqL8",
    "outputId": "0fd0fa0a-cf54-4637-f8b6-f15342002a15"
   },
   "outputs": [
    {
     "name": "stdout",
     "output_type": "stream",
     "text": [
      "[[0.28197938]\n",
      " [0.2570681 ]\n",
      " [0.12731096]\n",
      " [0.0575752 ]\n",
      " [0.18797627]]\n"
     ]
    }
   ],
   "source": [
    "y_pred = classifier.predict(X_test)\n",
    "print(y_pred[:5])"
   ]
  },
  {
   "cell_type": "code",
   "execution_count": 19,
   "metadata": {
    "colab": {
     "base_uri": "https://localhost:8080/"
    },
    "id": "S8JJz5bLY-7I",
    "outputId": "00827497-0dfb-49c4-d70b-2071d70ae5f0"
   },
   "outputs": [
    {
     "name": "stdout",
     "output_type": "stream",
     "text": [
      "[[0]\n",
      " [0]\n",
      " [0]\n",
      " [0]\n",
      " [0]]\n"
     ]
    }
   ],
   "source": [
    "#Let us use confusion matrix with cutoff value as 0.5\n",
    "y_pred = (y_pred > 0.5).astype(int)\n",
    "print(y_pred[:5])"
   ]
  },
  {
   "cell_type": "code",
   "execution_count": 20,
   "metadata": {
    "colab": {
     "base_uri": "https://localhost:8080/"
    },
    "id": "Bcyv6h2UZPbO",
    "outputId": "6ca6b222-2516-4b03-c081-1ba7feaa6817"
   },
   "outputs": [
    {
     "name": "stdout",
     "output_type": "stream",
     "text": [
      "[[1542   53]\n",
      " [ 235  170]]\n"
     ]
    }
   ],
   "source": [
    "#Making the Matrix\n",
    "from sklearn.metrics import confusion_matrix\n",
    "cm = confusion_matrix(y_test, y_pred)\n",
    "print(cm)"
   ]
  },
  {
   "cell_type": "code",
   "execution_count": 21,
   "metadata": {
    "colab": {
     "base_uri": "https://localhost:8080/"
    },
    "id": "l3weViSLZc1v",
    "outputId": "64895b62-30f8-4e86-e592-d3fae20b2673"
   },
   "outputs": [
    {
     "name": "stdout",
     "output_type": "stream",
     "text": [
      "85.6 % of data was classified correctly\n"
     ]
    }
   ],
   "source": [
    "#Accuracy of our NN\n",
    "print(((cm[0][0] + cm[1][1])* 100) / len(y_test), '% of data was classified correctly')"
   ]
  }
 ],
 "metadata": {
  "colab": {
   "provenance": []
  },
  "interpreter": {
   "hash": "f82e9eef39fec3b4432bd3d531b07136b7f172564442eec42315ae171445fe6f"
  },
  "kernelspec": {
   "display_name": "Python 3 (ipykernel)",
   "language": "python",
   "name": "python3"
  },
  "language_info": {
   "codemirror_mode": {
    "name": "ipython",
    "version": 3
   },
   "file_extension": ".py",
   "mimetype": "text/x-python",
   "name": "python",
   "nbconvert_exporter": "python",
   "pygments_lexer": "ipython3",
   "version": "3.9.12"
  }
 },
 "nbformat": 4,
 "nbformat_minor": 1
}
